{
 "cells": [
  {
   "cell_type": "markdown",
   "id": "1508fa6e",
   "metadata": {},
   "source": [
    "# List & For Loop Exercise\n",
    "\n",
    "First, Let's look into lists."
   ]
  },
  {
   "cell_type": "code",
   "execution_count": 22,
   "id": "6bce28b7",
   "metadata": {},
   "outputs": [
    {
     "name": "stdout",
     "output_type": "stream",
     "text": [
      "[2, 5, 3, 8, 1, 1, 9, 4]\n"
     ]
    }
   ],
   "source": [
    "list1 = [2, 5, 3, 8, 1 , 1, 9, 4]\n",
    "print(list1)"
   ]
  },
  {
   "cell_type": "markdown",
   "id": "ac08748a",
   "metadata": {},
   "source": [
    "## Methods & Functions which can be used with lists. \n",
    "\n",
    "Append: Adds an element to the end of the list.</br>\n",
    "Pop: Removes an element using its index in a list. </br>\n",
    "Remove: Removes an element using its value in a list. But here if multiple instance of the same element are present, this remove function only eliminates the first occurrence.</br>\n",
    "Insert: Inserts an element to where we need.</br>\n",
    "Reverse: Reverses the list.</br>\n",
    "Sort: Sorts the list. This performs a permanent sort.</br>\n",
    "\n",
    "There is a function called sorted, which sorts the list temporarily.\n"
   ]
  },
  {
   "cell_type": "code",
   "execution_count": 23,
   "id": "11a5c2f7",
   "metadata": {},
   "outputs": [
    {
     "name": "stdout",
     "output_type": "stream",
     "text": [
      "[2, 5, 3, 8, 1, 1, 9, 4, 6]\n",
      "\n",
      "[2, 5, 8, 1, 1, 9, 4, 6]\n",
      "\n",
      "[2, 5, 8, 1, 9, 4, 6]\n",
      "\n",
      "[45, 2, 5, 8, 1, 9, 4, 6]\n",
      "\n",
      "<list_reverseiterator object at 0x000002AB53D02EF0>\n",
      "[45, 2, 5, 8, 1, 9, 4, 6]\n",
      "\n",
      "list2 (after using sorted function):  [1, 2, 4, 5, 6, 8, 9, 45]\n",
      "list1:  [45, 2, 5, 8, 1, 9, 4, 6]\n",
      "\n",
      "After using sort method, list1: [1, 2, 4, 5, 6, 8, 9, 45]\n"
     ]
    }
   ],
   "source": [
    "list1.append(6)\n",
    "print(list1)\n",
    "print()\n",
    "\n",
    "list1.pop(2)\n",
    "print(list1)\n",
    "print()\n",
    "\n",
    "list1.remove(1)\n",
    "print(list1)\n",
    "print()\n",
    "\n",
    "list1.insert(0, 45)\n",
    "print(list1)\n",
    "print()\n",
    "\n",
    "reversed_list = reversed(list1)\n",
    "print(type(reversed_list))\n",
    "print(list(reversed_list))\n",
    "print(list1)\n",
    "print()\n",
    "\n",
    "list2 = sorted(list1)\n",
    "print(\"list2 (after using sorted function): \",list2)\n",
    "print(\"list1: \",list1)\n",
    "print()\n",
    "\n",
    "list1.sort()\n",
    "print(f\"After using sort method, list1: {list1}\")"
   ]
  },
  {
   "cell_type": "code",
   "execution_count": null,
   "id": "8cd84ba9",
   "metadata": {},
   "outputs": [],
   "source": []
  }
 ],
 "metadata": {
  "kernelspec": {
   "display_name": "Python 3 (ipykernel)",
   "language": "python",
   "name": "python3"
  },
  "language_info": {
   "codemirror_mode": {
    "name": "ipython",
    "version": 3
   },
   "file_extension": ".py",
   "mimetype": "text/x-python",
   "name": "python",
   "nbconvert_exporter": "python",
   "pygments_lexer": "ipython3",
   "version": "3.11.5"
  }
 },
 "nbformat": 4,
 "nbformat_minor": 5
}
